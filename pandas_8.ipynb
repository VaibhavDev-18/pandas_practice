{
 "cells": [
  {
   "cell_type": "code",
   "execution_count": 7,
   "id": "3c94f2ba-17d4-4a46-a9cd-5e9b21daf912",
   "metadata": {},
   "outputs": [],
   "source": [
    "import pandas as pd"
   ]
  },
  {
   "cell_type": "code",
   "execution_count": 8,
   "id": "31cc2b5a-2c9b-4edb-8990-0e0edaabb95c",
   "metadata": {},
   "outputs": [],
   "source": [
    "employees = pd.read_csv(\"pandas_8.csv\")"
   ]
  },
  {
   "cell_type": "code",
   "execution_count": 14,
   "id": "d5ca5269-a5fc-4973-896b-3912bda12b81",
   "metadata": {},
   "outputs": [],
   "source": [
    "employees[\"salary\"] = employees[\"salary\"] * 2"
   ]
  },
  {
   "cell_type": "code",
   "execution_count": 2,
   "id": "ed0f3c05-6177-40d7-bca5-f69f6e90f552",
   "metadata": {},
   "outputs": [],
   "source": [
    "def modifySalaryColumn(employees: pd.DataFrame) -> pd.DataFrame:\n",
    "    return employees[employees[\"salary\"] * 2]"
   ]
  },
  {
   "cell_type": "code",
   "execution_count": 15,
   "id": "f387342c-d67a-4426-b7c5-8daa148975bb",
   "metadata": {},
   "outputs": [
    {
     "data": {
      "text/html": [
       "<div>\n",
       "<style scoped>\n",
       "    .dataframe tbody tr th:only-of-type {\n",
       "        vertical-align: middle;\n",
       "    }\n",
       "\n",
       "    .dataframe tbody tr th {\n",
       "        vertical-align: top;\n",
       "    }\n",
       "\n",
       "    .dataframe thead th {\n",
       "        text-align: right;\n",
       "    }\n",
       "</style>\n",
       "<table border=\"1\" class=\"dataframe\">\n",
       "  <thead>\n",
       "    <tr style=\"text-align: right;\">\n",
       "      <th></th>\n",
       "      <th>name</th>\n",
       "      <th>salary</th>\n",
       "    </tr>\n",
       "  </thead>\n",
       "  <tbody>\n",
       "    <tr>\n",
       "      <th>0</th>\n",
       "      <td>Jack</td>\n",
       "      <td>39332</td>\n",
       "    </tr>\n",
       "    <tr>\n",
       "      <th>1</th>\n",
       "      <td>Piper</td>\n",
       "      <td>149508</td>\n",
       "    </tr>\n",
       "    <tr>\n",
       "      <th>2</th>\n",
       "      <td>Mia</td>\n",
       "      <td>125018</td>\n",
       "    </tr>\n",
       "    <tr>\n",
       "      <th>3</th>\n",
       "      <td>Ulysses</td>\n",
       "      <td>109732</td>\n",
       "    </tr>\n",
       "  </tbody>\n",
       "</table>\n",
       "</div>"
      ],
      "text/plain": [
       "      name  salary\n",
       "0     Jack   39332\n",
       "1    Piper  149508\n",
       "2      Mia  125018\n",
       "3  Ulysses  109732"
      ]
     },
     "execution_count": 15,
     "metadata": {},
     "output_type": "execute_result"
    }
   ],
   "source": [
    "employees"
   ]
  },
  {
   "cell_type": "code",
   "execution_count": null,
   "id": "f7b01f2d-0765-43a4-bead-047ca668c86c",
   "metadata": {},
   "outputs": [],
   "source": []
  },
  {
   "cell_type": "code",
   "execution_count": null,
   "id": "798efaf9-20fa-48b1-a909-8cff9bed66e0",
   "metadata": {},
   "outputs": [],
   "source": []
  }
 ],
 "metadata": {
  "kernelspec": {
   "display_name": "Python 3 (ipykernel)",
   "language": "python",
   "name": "python3"
  },
  "language_info": {
   "codemirror_mode": {
    "name": "ipython",
    "version": 3
   },
   "file_extension": ".py",
   "mimetype": "text/x-python",
   "name": "python",
   "nbconvert_exporter": "python",
   "pygments_lexer": "ipython3",
   "version": "3.12.3"
  }
 },
 "nbformat": 4,
 "nbformat_minor": 5
}
