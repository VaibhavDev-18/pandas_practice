{
 "cells": [
  {
   "cell_type": "code",
   "execution_count": 1,
   "id": "3ced68e7-3e52-4d6a-a7d8-1efce5e3236b",
   "metadata": {},
   "outputs": [],
   "source": [
    "import pandas as pd"
   ]
  },
  {
   "cell_type": "code",
   "execution_count": 8,
   "id": "83cba923-38cb-44ac-98f3-b0baeff07393",
   "metadata": {},
   "outputs": [],
   "source": [
    "df = pd.read_csv(\"pandas_4.csv\")"
   ]
  },
  {
   "cell_type": "code",
   "execution_count": 23,
   "id": "1bf7963e-b1c8-47a9-9a39-eae146b37329",
   "metadata": {},
   "outputs": [],
   "source": [
    "def selectData(students: pd.DataFrame) -> pd.DataFrame:\n",
    "    return df.loc[students[\"student_id\"] == 101, ['name', 'age']]"
   ]
  },
  {
   "cell_type": "code",
   "execution_count": 24,
   "id": "404f5516-f695-4ef9-bafb-8fff06b9e5f8",
   "metadata": {},
   "outputs": [
    {
     "data": {
      "text/html": [
       "<div>\n",
       "<style scoped>\n",
       "    .dataframe tbody tr th:only-of-type {\n",
       "        vertical-align: middle;\n",
       "    }\n",
       "\n",
       "    .dataframe tbody tr th {\n",
       "        vertical-align: top;\n",
       "    }\n",
       "\n",
       "    .dataframe thead th {\n",
       "        text-align: right;\n",
       "    }\n",
       "</style>\n",
       "<table border=\"1\" class=\"dataframe\">\n",
       "  <thead>\n",
       "    <tr style=\"text-align: right;\">\n",
       "      <th></th>\n",
       "      <th>name</th>\n",
       "      <th>age</th>\n",
       "    </tr>\n",
       "  </thead>\n",
       "  <tbody>\n",
       "    <tr>\n",
       "      <th>0</th>\n",
       "      <td>Ulysses</td>\n",
       "      <td>13</td>\n",
       "    </tr>\n",
       "  </tbody>\n",
       "</table>\n",
       "</div>"
      ],
      "text/plain": [
       "      name  age\n",
       "0  Ulysses   13"
      ]
     },
     "execution_count": 24,
     "metadata": {},
     "output_type": "execute_result"
    }
   ],
   "source": [
    "selectData(df)"
   ]
  },
  {
   "cell_type": "code",
   "execution_count": null,
   "id": "6bc9c93d-4eb1-4901-a412-f0f5c3d3a160",
   "metadata": {},
   "outputs": [],
   "source": []
  }
 ],
 "metadata": {
  "kernelspec": {
   "display_name": "Python 3 (ipykernel)",
   "language": "python",
   "name": "python3"
  },
  "language_info": {
   "codemirror_mode": {
    "name": "ipython",
    "version": 3
   },
   "file_extension": ".py",
   "mimetype": "text/x-python",
   "name": "python",
   "nbconvert_exporter": "python",
   "pygments_lexer": "ipython3",
   "version": "3.12.3"
  }
 },
 "nbformat": 4,
 "nbformat_minor": 5
}
