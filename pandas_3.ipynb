{
 "cells": [
  {
   "cell_type": "code",
   "execution_count": 2,
   "id": "f95e3fda-41eb-4cce-a6fa-e8afc1ce1c60",
   "metadata": {},
   "outputs": [],
   "source": [
    "import pandas as pd\n",
    "from typing import List"
   ]
  },
  {
   "cell_type": "code",
   "execution_count": 3,
   "id": "e34da71d-c9a0-4c20-a584-191b6160da3f",
   "metadata": {},
   "outputs": [],
   "source": [
    "def selectFirstRows(employees: pd.DataFrame) -> pd.DataFrame:\n",
    "    return employees[:3]"
   ]
  },
  {
   "cell_type": "code",
   "execution_count": 4,
   "id": "36210cfc-2abb-42bc-bc88-3e03eec50b1d",
   "metadata": {},
   "outputs": [],
   "source": [
    "employees = pd.read_csv(\"pandas_3.csv\")"
   ]
  },
  {
   "cell_type": "code",
   "execution_count": 5,
   "id": "7900c8f0-c3ca-4890-836a-38aec0bf2c70",
   "metadata": {},
   "outputs": [
    {
     "data": {
      "text/html": [
       "<div>\n",
       "<style scoped>\n",
       "    .dataframe tbody tr th:only-of-type {\n",
       "        vertical-align: middle;\n",
       "    }\n",
       "\n",
       "    .dataframe tbody tr th {\n",
       "        vertical-align: top;\n",
       "    }\n",
       "\n",
       "    .dataframe thead th {\n",
       "        text-align: right;\n",
       "    }\n",
       "</style>\n",
       "<table border=\"1\" class=\"dataframe\">\n",
       "  <thead>\n",
       "    <tr style=\"text-align: right;\">\n",
       "      <th></th>\n",
       "      <th>employee_id</th>\n",
       "      <th>name</th>\n",
       "      <th>department</th>\n",
       "      <th>salary</th>\n",
       "    </tr>\n",
       "  </thead>\n",
       "  <tbody>\n",
       "    <tr>\n",
       "      <th>0</th>\n",
       "      <td>3</td>\n",
       "      <td>Bob</td>\n",
       "      <td>Operations</td>\n",
       "      <td>48675</td>\n",
       "    </tr>\n",
       "    <tr>\n",
       "      <th>1</th>\n",
       "      <td>90</td>\n",
       "      <td>Alice</td>\n",
       "      <td>Sales</td>\n",
       "      <td>11096</td>\n",
       "    </tr>\n",
       "    <tr>\n",
       "      <th>2</th>\n",
       "      <td>9</td>\n",
       "      <td>Tatiana</td>\n",
       "      <td>Engineering</td>\n",
       "      <td>33805</td>\n",
       "    </tr>\n",
       "  </tbody>\n",
       "</table>\n",
       "</div>"
      ],
      "text/plain": [
       "   employee_id     name   department  salary\n",
       "0            3      Bob   Operations   48675\n",
       "1           90    Alice        Sales   11096\n",
       "2            9  Tatiana  Engineering   33805"
      ]
     },
     "execution_count": 5,
     "metadata": {},
     "output_type": "execute_result"
    }
   ],
   "source": [
    "selectFirstRows(employees)"
   ]
  },
  {
   "cell_type": "code",
   "execution_count": null,
   "id": "26ba736a-4c07-4ee9-b6b5-f69fe9673460",
   "metadata": {},
   "outputs": [],
   "source": []
  }
 ],
 "metadata": {
  "kernelspec": {
   "display_name": "Python 3 (ipykernel)",
   "language": "python",
   "name": "python3"
  },
  "language_info": {
   "codemirror_mode": {
    "name": "ipython",
    "version": 3
   },
   "file_extension": ".py",
   "mimetype": "text/x-python",
   "name": "python",
   "nbconvert_exporter": "python",
   "pygments_lexer": "ipython3",
   "version": "3.12.3"
  }
 },
 "nbformat": 4,
 "nbformat_minor": 5
}
