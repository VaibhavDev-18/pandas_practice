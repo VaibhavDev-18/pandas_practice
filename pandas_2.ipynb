{
 "cells": [
  {
   "cell_type": "code",
   "execution_count": 3,
   "id": "ccd14c1d-2c84-4d32-8ca9-ff8d31cbf582",
   "metadata": {},
   "outputs": [],
   "source": [
    "import pandas as pd\n",
    "from typing import List\n",
    "\n",
    "def getDataframeSize(players: pd.DataFrame) -> List[int]:\n",
    "    return players.shape"
   ]
  },
  {
   "cell_type": "code",
   "execution_count": 5,
   "id": "3fde49f2-5aad-4224-b765-efc30d1e5215",
   "metadata": {},
   "outputs": [],
   "source": [
    "players = pd.read_csv(\"pandas_2.csv\")"
   ]
  },
  {
   "cell_type": "code",
   "execution_count": 7,
   "id": "cfdd5761-0331-4dc8-8e01-11adc813c9bd",
   "metadata": {},
   "outputs": [
    {
     "data": {
      "text/plain": [
       "[10, 5]"
      ]
     },
     "execution_count": 7,
     "metadata": {},
     "output_type": "execute_result"
    }
   ],
   "source": [
    "list(getDataframeSize(players))"
   ]
  },
  {
   "cell_type": "code",
   "execution_count": null,
   "id": "c670fa1a-5de0-4666-95b3-531acac9e73a",
   "metadata": {},
   "outputs": [],
   "source": []
  }
 ],
 "metadata": {
  "kernelspec": {
   "display_name": "Python 3 (ipykernel)",
   "language": "python",
   "name": "python3"
  },
  "language_info": {
   "codemirror_mode": {
    "name": "ipython",
    "version": 3
   },
   "file_extension": ".py",
   "mimetype": "text/x-python",
   "name": "python",
   "nbconvert_exporter": "python",
   "pygments_lexer": "ipython3",
   "version": "3.12.3"
  }
 },
 "nbformat": 4,
 "nbformat_minor": 5
}
